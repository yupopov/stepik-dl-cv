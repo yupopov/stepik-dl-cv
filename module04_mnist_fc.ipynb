{
  "cells": [
    {
      "cell_type": "markdown",
      "metadata": {
        "id": "view-in-github",
        "colab_type": "text"
      },
      "source": [
        "<a href=\"https://colab.research.google.com/github/yupopov/stepik-dl-cv/blob/main/module04_mnist_fc.ipynb\" target=\"_parent\"><img src=\"https://colab.research.google.com/assets/colab-badge.svg\" alt=\"Open In Colab\"/></a>"
      ]
    },
    {
      "cell_type": "markdown",
      "source": [
        "# MNIST classification by a fully connected network\n",
        "\n",
        "In this notebook we construct a fully connected network with two hidden layers for the MNIST dataset, and then see how its quality and training time are affected by its learning parameters (such as number of epochs, batch size, and an optimizer)."
      ],
      "metadata": {
        "id": "6U34-NCDJAyI"
      }
    },
    {
      "cell_type": "code",
      "execution_count": null,
      "metadata": {
        "id": "DWr6cvb9pS3J"
      },
      "outputs": [],
      "source": [
        "import torch\n",
        "import random\n",
        "import numpy as np\n",
        "\n",
        "random.seed(0)\n",
        "np.random.seed(0)\n",
        "torch.manual_seed(0)\n",
        "torch.cuda.manual_seed(0)\n",
        "torch.backends.cudnn.deterministic = True"
      ]
    },
    {
      "cell_type": "markdown",
      "source": [
        "Let's load the dataset."
      ],
      "metadata": {
        "id": "-iN98LAYHwlu"
      }
    },
    {
      "cell_type": "code",
      "execution_count": null,
      "metadata": {
        "id": "MqGQWTDIpS3R",
        "colab": {
          "base_uri": "https://localhost:8080/",
          "height": 423,
          "referenced_widgets": [
            "b0b176d762554c81a31600031c52e0a0",
            "cfb9a6a617154c6ca1368b6b1c045acb",
            "4471a2006a54408285d6bc2f1be340e1",
            "94ac6635de9246c18f34adaaa76915ac",
            "aa844161b9324642a8ce9a779ae89612",
            "e74087b6dfc04ad9a98357ba8ae15731",
            "4d4c39e0abb44d2d90be144d72917fd9",
            "4c56595bc6124229944c6fe5b3c67f44",
            "996c6ffe683b4997aeab8bddd5ecf0f2",
            "24fc495214b149ffa86cd9af6a0db6d2",
            "d8d8f9b438464c228461c02e98866b29",
            "8d1cbead7d0b48f5a602cb55576314a4",
            "b4a82c0592bc48b2af1f14949f9a6d66",
            "255c4dd66bf0448f989fb1d925887acf",
            "e1f8e906b54a4b67a6bbdb6fc60357d4",
            "3bf3247ccf7b4a9abce3e8e32db8557e",
            "a658bf324b37404cb37e114795861c5c",
            "4a8a9709d2e44434be9b08b010c2dd80",
            "5107ed25516a438bb38a3d3f532c806f",
            "1eb335fffdc54bfca769748b41e87719",
            "de98eba9500b44059f42e4689fce27dd",
            "3be81125693143569b87417c9ccb9a0e",
            "9d347e8c1a484d0c8efc9d4291f885a4",
            "3e4d9db2b8c54a09a167d64b814a50a9",
            "113c373b07c94c34a13b6db9b8ce72b8",
            "680d7436ddc84fdbb8eb4f1469144fc9",
            "562196f894844a819ee381567911946e",
            "7195924fe96348a784d938813ef9bd60",
            "d4f6833cdfd441c892450a1d58c6bb6d",
            "84607c0dcd0e462f991d5ddc5423842a",
            "953a196c84a34d239cddf2634c2dac36",
            "24ada3842d104f968c53a8349c154381",
            "f4aec24d3f1b4f239ebedb2b53c55694",
            "96cbfa2914bf49cba8e610390240c57b",
            "c843900d25ef4f78b2537bacdc6b8dbc",
            "8eaafb03903f44bdbdbdc7266a5c7528",
            "ef1a253798b2446b8914eed9846c0901",
            "003d1a16be7f41d8b5a73eb82ba7d096",
            "5cd476ef594e476582d3756fd01960df",
            "f1c9494f191b40e29b5f5a17267703e6",
            "a56261d1613147af8dbb4cb029eb48b4",
            "b16f85d68f1f493cbbd3d4baf2b3ba90",
            "3b23ec7b75274a86848dc202eb594c91",
            "c147704f770b4d76abe12036d5cac7f8"
          ]
        },
        "outputId": "e0d6772d-be55-48f6-a2e8-4d7a8d74f360"
      },
      "outputs": [
        {
          "output_type": "stream",
          "name": "stdout",
          "text": [
            "Downloading http://yann.lecun.com/exdb/mnist/train-images-idx3-ubyte.gz\n",
            "Downloading http://yann.lecun.com/exdb/mnist/train-images-idx3-ubyte.gz to ./MNIST/raw/train-images-idx3-ubyte.gz\n"
          ]
        },
        {
          "output_type": "display_data",
          "data": {
            "application/vnd.jupyter.widget-view+json": {
              "model_id": "b0b176d762554c81a31600031c52e0a0",
              "version_minor": 0,
              "version_major": 2
            },
            "text/plain": [
              "  0%|          | 0/9912422 [00:00<?, ?it/s]"
            ]
          },
          "metadata": {}
        },
        {
          "output_type": "stream",
          "name": "stdout",
          "text": [
            "Extracting ./MNIST/raw/train-images-idx3-ubyte.gz to ./MNIST/raw\n",
            "\n",
            "Downloading http://yann.lecun.com/exdb/mnist/train-labels-idx1-ubyte.gz\n",
            "Downloading http://yann.lecun.com/exdb/mnist/train-labels-idx1-ubyte.gz to ./MNIST/raw/train-labels-idx1-ubyte.gz\n"
          ]
        },
        {
          "output_type": "display_data",
          "data": {
            "application/vnd.jupyter.widget-view+json": {
              "model_id": "8d1cbead7d0b48f5a602cb55576314a4",
              "version_minor": 0,
              "version_major": 2
            },
            "text/plain": [
              "  0%|          | 0/28881 [00:00<?, ?it/s]"
            ]
          },
          "metadata": {}
        },
        {
          "output_type": "stream",
          "name": "stdout",
          "text": [
            "Extracting ./MNIST/raw/train-labels-idx1-ubyte.gz to ./MNIST/raw\n",
            "\n",
            "Downloading http://yann.lecun.com/exdb/mnist/t10k-images-idx3-ubyte.gz\n",
            "Downloading http://yann.lecun.com/exdb/mnist/t10k-images-idx3-ubyte.gz to ./MNIST/raw/t10k-images-idx3-ubyte.gz\n"
          ]
        },
        {
          "output_type": "display_data",
          "data": {
            "application/vnd.jupyter.widget-view+json": {
              "model_id": "9d347e8c1a484d0c8efc9d4291f885a4",
              "version_minor": 0,
              "version_major": 2
            },
            "text/plain": [
              "  0%|          | 0/1648877 [00:00<?, ?it/s]"
            ]
          },
          "metadata": {}
        },
        {
          "output_type": "stream",
          "name": "stdout",
          "text": [
            "Extracting ./MNIST/raw/t10k-images-idx3-ubyte.gz to ./MNIST/raw\n",
            "\n",
            "Downloading http://yann.lecun.com/exdb/mnist/t10k-labels-idx1-ubyte.gz\n",
            "Downloading http://yann.lecun.com/exdb/mnist/t10k-labels-idx1-ubyte.gz to ./MNIST/raw/t10k-labels-idx1-ubyte.gz\n"
          ]
        },
        {
          "output_type": "display_data",
          "data": {
            "application/vnd.jupyter.widget-view+json": {
              "model_id": "96cbfa2914bf49cba8e610390240c57b",
              "version_minor": 0,
              "version_major": 2
            },
            "text/plain": [
              "  0%|          | 0/4542 [00:00<?, ?it/s]"
            ]
          },
          "metadata": {}
        },
        {
          "output_type": "stream",
          "name": "stdout",
          "text": [
            "Extracting ./MNIST/raw/t10k-labels-idx1-ubyte.gz to ./MNIST/raw\n",
            "\n"
          ]
        }
      ],
      "source": [
        "import torchvision.datasets\n",
        "MNIST_train = torchvision.datasets.MNIST('./', download=True, train=True)\n",
        "MNIST_test = torchvision.datasets.MNIST('./', download=True, train=False)"
      ]
    },
    {
      "cell_type": "code",
      "execution_count": null,
      "metadata": {
        "id": "vv_Lz7PYpS3U"
      },
      "outputs": [],
      "source": [
        "X_train = MNIST_train.data\n",
        "y_train = MNIST_train.targets\n",
        "X_test = MNIST_test.data\n",
        "y_test = MNIST_test.targets"
      ]
    },
    {
      "cell_type": "code",
      "execution_count": null,
      "metadata": {
        "id": "hMhsAedlrQF5",
        "colab": {
          "base_uri": "https://localhost:8080/"
        },
        "outputId": "1513825f-19cd-4944-bb13-974548f8c374"
      },
      "outputs": [
        {
          "output_type": "execute_result",
          "data": {
            "text/plain": [
              "(torch.uint8, torch.int64)"
            ]
          },
          "metadata": {},
          "execution_count": 4
        }
      ],
      "source": [
        "X_train.dtype, y_train.dtype"
      ]
    },
    {
      "cell_type": "code",
      "execution_count": null,
      "metadata": {
        "id": "_yTaVOrPvap6"
      },
      "outputs": [],
      "source": [
        "X_train = X_train.float()\n",
        "X_test = X_test.float()"
      ]
    },
    {
      "cell_type": "code",
      "execution_count": null,
      "metadata": {
        "id": "_gfupg4kpS3X",
        "colab": {
          "base_uri": "https://localhost:8080/"
        },
        "outputId": "18435af5-6bfd-4262-d3e3-d50d10f09526"
      },
      "outputs": [
        {
          "output_type": "execute_result",
          "data": {
            "text/plain": [
              "(torch.Size([60000, 28, 28]), torch.Size([10000, 28, 28]))"
            ]
          },
          "metadata": {},
          "execution_count": 6
        }
      ],
      "source": [
        "X_train.shape, X_test.shape"
      ]
    },
    {
      "cell_type": "code",
      "execution_count": null,
      "metadata": {
        "id": "zEC1RXBEz_SW",
        "colab": {
          "base_uri": "https://localhost:8080/"
        },
        "outputId": "89b692c9-d40e-44d0-9dc8-9691228dbe48"
      },
      "outputs": [
        {
          "output_type": "execute_result",
          "data": {
            "text/plain": [
              "(torch.Size([60000]), torch.Size([10000]))"
            ]
          },
          "metadata": {},
          "execution_count": 7
        }
      ],
      "source": [
        "y_train.shape, y_test.shape"
      ]
    },
    {
      "cell_type": "code",
      "execution_count": null,
      "metadata": {
        "id": "Z1tFXMwJpS3e",
        "colab": {
          "base_uri": "https://localhost:8080/",
          "height": 283
        },
        "outputId": "0cd2d01f-0ad4-48c4-83c2-932c46c39539"
      },
      "outputs": [
        {
          "output_type": "display_data",
          "data": {
            "image/png": "[encoded data removed]",
            "text/plain": [
              "<Figure size 432x288 with 1 Axes>"
            ]
          },
          "metadata": {
            "needs_background": "light"
          }
        },
        {
          "output_type": "stream",
          "name": "stdout",
          "text": [
            "tensor(5)\n"
          ]
        }
      ],
      "source": [
        "import matplotlib.pyplot as plt\n",
        "plt.imshow(X_train[0, :, :])\n",
        "plt.show()\n",
        "print(y_train[0])"
      ]
    },
    {
      "cell_type": "code",
      "execution_count": null,
      "metadata": {
        "id": "IUZgNg7zpS3j"
      },
      "outputs": [],
      "source": [
        "X_train = X_train.reshape([-1, 28 * 28])\n",
        "X_test = X_test.reshape([-1, 28 * 28])"
      ]
    },
    {
      "cell_type": "code",
      "source": [
        "torch.cuda.is_available()"
      ],
      "metadata": {
        "colab": {
          "base_uri": "https://localhost:8080/"
        },
        "id": "O9uccfiEYKci",
        "outputId": "737c162b-1f2f-4f47-8e03-c5d53820334a"
      },
      "execution_count": null,
      "outputs": [
        {
          "output_type": "execute_result",
          "data": {
            "text/plain": [
              "True"
            ]
          },
          "metadata": {},
          "execution_count": 10
        }
      ]
    },
    {
      "cell_type": "code",
      "source": [
        "device = torch.device('cuda:0' if torch.cuda.is_available() else 'cpu')\n",
        "X_test = X_test.to(device)\n",
        "y_test = y_test.to(device);"
      ],
      "metadata": {
        "id": "YbBeVcy-YEut"
      },
      "execution_count": null,
      "outputs": []
    },
    {
      "cell_type": "markdown",
      "source": [
        "The network class and the training function can be found below:"
      ],
      "metadata": {
        "id": "NjI1L5OHH1kN"
      }
    },
    {
      "cell_type": "code",
      "execution_count": null,
      "metadata": {
        "id": "k7l65slppS3l"
      },
      "outputs": [],
      "source": [
        "class MNISTNet(torch.nn.Module):\n",
        "    def __init__(self, n_hidden_neurons):\n",
        "        super(MNISTNet, self).__init__()\n",
        "        self.fc1 = torch.nn.Linear(28 * 28, n_hidden_neurons)\n",
        "        self.ac1 = torch.nn.Sigmoid()\n",
        "        self.fc2 = torch.nn.Linear(n_hidden_neurons, 10) \n",
        "    \n",
        "    def forward(self, x):\n",
        "        x = self.fc1(x)\n",
        "        x = self.ac1(x)\n",
        "        x = self.fc2(x)\n",
        "        return x\n",
        "    \n",
        "mnist_net = MNISTNet(100).to(device)\n",
        "\n",
        "loss = torch.nn.CrossEntropyLoss()\n",
        "optimizer_adam = torch.optim.Adam(mnist_net.parameters(), lr=1.0e-3)"
      ]
    },
    {
      "cell_type": "code",
      "execution_count": null,
      "metadata": {
        "id": "ShQDv_w-0rz8"
      },
      "outputs": [],
      "source": [
        "# !nvidia-smi"
      ]
    },
    {
      "cell_type": "code",
      "source": [
        "def train_net(optimizer_params, n_hidden_neurons=100, batch_size=100, n_epochs=200, optimizer=torch.optim.Adam):\n",
        "    batch_size = batch_size\n",
        "\n",
        "    mnist_net = MNISTNet(n_hidden_neurons).to(device)\n",
        "\n",
        "    loss = torch.nn.CrossEntropyLoss()\n",
        "    optimizer = optimizer(mnist_net.parameters(), **optimizer_params)\n",
        "\n",
        "    test_accuracy_history = []\n",
        "    test_loss_history = []\n",
        "    train_accuracy_history = []\n",
        "    train_loss_history = []\n",
        "\n",
        "\n",
        "    for epoch in range(n_epochs):\n",
        "        order = np.random.permutation(len(X_train))\n",
        "        train_preds = torch.zeros([X_train.shape[0], 10], dtype=torch.float)\n",
        "        train_batch_loss_history = []\n",
        "        \n",
        "        for start_index in range(0, len(X_train), batch_size):\n",
        "            optimizer.zero_grad()\n",
        "            \n",
        "            batch_indexes = order[start_index:start_index+batch_size]\n",
        "            \n",
        "            X_batch = X_train[batch_indexes].to(device)\n",
        "            y_batch = y_train[batch_indexes].to(device)\n",
        "            \n",
        "            preds_batch = mnist_net.forward(X_batch) \n",
        "            \n",
        "            loss_value = loss(preds_batch, y_batch)\n",
        "            loss_value.backward()\n",
        "            \n",
        "            train_batch_loss_history.append(loss_value.tolist())\n",
        "            train_preds[batch_indexes] = preds_batch.cpu()\n",
        "\n",
        "            optimizer.step()\n",
        "\n",
        "        with torch.no_grad():\n",
        "          test_preds = mnist_net.forward(X_test)\n",
        "          test_loss = loss(test_preds, y_test).cpu()\n",
        "          test_loss_history.append(test_loss)\n",
        "          \n",
        "          test_accuracy = (test_preds.argmax(dim=1) == y_test).float().mean().cpu()\n",
        "          test_accuracy_history.append(test_accuracy)\n",
        "\n",
        "          train_loss = np.mean(train_batch_loss_history)\n",
        "          train_loss_history.append(train_loss)\n",
        "          \n",
        "          train_accuracy = (train_preds.argmax(dim=1) == y_train).float().mean().cpu()\n",
        "          train_accuracy_history.append(train_accuracy)\n",
        "\n",
        "    return test_loss_history, test_accuracy_history, train_loss_history, train_accuracy_history"
      ],
      "metadata": {
        "id": "SnJK6AqG0njM"
      },
      "execution_count": null,
      "outputs": []
    },
    {
      "cell_type": "markdown",
      "source": [
        "## 1. Plot the train and the test losses on the same graph\n",
        "\n",
        "We plot the accuracies as well."
      ],
      "metadata": {
        "id": "ccPJ4YO25e8L"
      }
    },
    {
      "cell_type": "code",
      "execution_count": null,
      "metadata": {
        "id": "wZtqiGvfpS3r"
      },
      "outputs": [],
      "source": [
        "test_loss_history, test_accuracy_history, train_loss_history, train_accuracy_history = train_net(optimizer_params={'lr': 1e-3}, n_epochs=200)"
      ]
    },
    {
      "cell_type": "code",
      "source": [
        "fig, ax = plt.subplots(1, 2, figsize=(14, 7))\n",
        "\n",
        "ax[0].plot(train_accuracy_history, label='Train accuracy')\n",
        "ax[0].plot(test_accuracy_history, label='Test accuracy')\n",
        "ax[0].grid(True)\n",
        "ax[0].legend(loc='best')\n",
        "ax[0].set_xlabel('n_epochs')\n",
        "ax[0].set_ylabel('Accuracy')\n",
        "ax[0].set_title('Accuracy vs num of epochs')\n",
        "\n",
        "ax[1].plot(train_loss_history, label='Train loss')\n",
        "ax[1].plot(test_loss_history, label='Test loss')\n",
        "ax[1].grid(True)\n",
        "ax[1].legend(loc='best')\n",
        "ax[0].set_xlabel('n_epochs')\n",
        "ax[1].set_ylabel('Loss')\n",
        "ax[1].set_title('Loss vs num of epochs');"
      ],
      "metadata": {
        "colab": {
          "base_uri": "https://localhost:8080/",
          "height": 459
        },
        "id": "14YAhzSQ3LxN",
        "outputId": "ae7f61e0-2b41-452f-a5c2-39dff8d533cd"
      },
      "execution_count": null,
      "outputs": [
        {
          "output_type": "display_data",
          "data": {
            "image/png": "[encoded data removed]",
            "text/plain": [
              "<Figure size 1008x504 with 2 Axes>"
            ]
          },
          "metadata": {
            "needs_background": "light"
          }
        }
      ]
    },
    {
      "cell_type": "markdown",
      "source": [
        "*Do the train and validation losses decrease equally fast and reaches the same value, or do we have overfitting here?*\n",
        "\n",
        "One can see the model overfits slightly to the train set (however, the test accuracy doesn't decrease, so our network can still generalize well to unknown data).\n",
        "\n",
        "*Does increasing the number of epochs (40 epochs -> 200 epochs) improve the validation metrics?*\n",
        "\n",
        "We see that both the accuracy and the loss improve until around epoch #175, and start plateauing afterwards."
      ],
      "metadata": {
        "id": "ARbBONaj5yO1"
      }
    },
    {
      "cell_type": "markdown",
      "source": [
        "## 2. Measure the calculation time of 100 epochs on CPU and on GPU. How much acceleration can you achieve?\n",
        "\n",
        "We train the model five times on GPU for each `batch_size` = $2^k, \\ k = 6, \\ldots, 13$ and save the average train times. We record the average test accuracy histories for each batch size as well."
      ],
      "metadata": {
        "id": "m3oqYGwt9-ew"
      }
    },
    {
      "cell_type": "code",
      "source": [
        "from time import time"
      ],
      "metadata": {
        "id": "TmcoJu63_jt-"
      },
      "execution_count": null,
      "outputs": []
    },
    {
      "cell_type": "code",
      "source": [
        "batch_sizes = [128, 256, 512, 1024, 2048, 4096, 8192]\n",
        "train_times_gpu = []\n",
        "test_accuracy_histories = []\n",
        "for batch_size in batch_sizes:\n",
        "    train_times_ = [] \n",
        "    accuracy_histories_ = []\n",
        "    for i in range(5): # Train 5 nets with different random seeds\n",
        "        random.seed(i)\n",
        "        np.random.seed(i)\n",
        "        torch.manual_seed(i)\n",
        "        torch.cuda.manual_seed(i)\n",
        "\n",
        "        time1 = time()\n",
        "        _, test_accuracy_history, _, _ = train_net(optimizer_params={'lr': 1e-3}, batch_size=batch_size, n_epochs=100)\n",
        "        time2 = time()\n",
        "        train_times_.append(time2 - time1)\n",
        "        accuracy_histories_.append(test_accuracy_history)\n",
        "\n",
        "    train_times_ = np.array(train_times_)\n",
        "    train_times_gpu.append(train_times_.mean())\n",
        "\n",
        "    accuracy_histories_ = np.array(accuracy_histories_)\n",
        "    test_accuracy_histories.append(accuracy_histories_.mean(axis=0))"
      ],
      "metadata": {
        "id": "9Tw1Bhiv-s1I"
      },
      "execution_count": null,
      "outputs": []
    },
    {
      "cell_type": "code",
      "source": [
        "device = torch.device('cpu')\n",
        "X_test = X_test.to(device)\n",
        "y_test = y_test.to(device);"
      ],
      "metadata": {
        "id": "KWHsGwcO5xnr"
      },
      "execution_count": null,
      "outputs": []
    },
    {
      "cell_type": "markdown",
      "source": [
        "Training the model on CPU multiple times would take too much time, so here we train the neural network only once for each batch size."
      ],
      "metadata": {
        "id": "gTFxBLTN8hza"
      }
    },
    {
      "cell_type": "code",
      "source": [
        "train_times_cpu = []\n",
        "for batch_size in batch_sizes:\n",
        "    time1 = time()\n",
        "    _ = train_net(optimizer_params={'lr': 1e-3}, batch_size=batch_size, n_epochs=100)\n",
        "    time2 = time()\n",
        "    train_times_cpu.append(time2 - time1)"
      ],
      "metadata": {
        "id": "0qe0tlxgCQed"
      },
      "execution_count": null,
      "outputs": []
    },
    {
      "cell_type": "code",
      "source": [
        "fig, ax = plt.subplots(1, 2, figsize=(14, 7))\n",
        "\n",
        "ax[0].semilogx(batch_sizes, train_times_gpu, label='GPU train times')\n",
        "ax[0].semilogx(batch_sizes, train_times_cpu, label='CPU train times')\n",
        "ax[0].set_xticks(batch_sizes)\n",
        "ax[0].set_xticklabels(batch_sizes)\n",
        "ax[0].set_xlabel('Batch size')\n",
        "ax[0].set_ylabel('Train time (s)')\n",
        "ax[0].set_title('Train times vs log-batch size (100 epochs)')\n",
        "ax[0].legend(loc='best')\n",
        "ax[0].grid(True)\n",
        "\n",
        "ax[1].set_title('Log-train times vs log-batch size (100 epochs)')\n",
        "ax[1].loglog(batch_sizes, train_times_gpu, label='GPU train times')\n",
        "ax[1].set_xticks(batch_sizes)\n",
        "ax[1].set_xticklabels(batch_sizes)\n",
        "ax[1].set_xlabel('Batch size')\n",
        "ax[1].set_ylabel('Train time, log (s)')\n",
        "ax[1].grid(True);"
      ],
      "metadata": {
        "colab": {
          "base_uri": "https://localhost:8080/",
          "height": 458
        },
        "id": "2IdInclLFpwr",
        "outputId": "936cd1b9-cc6c-4d53-cac6-a6ded80b803d"
      },
      "execution_count": null,
      "outputs": [
        {
          "output_type": "display_data",
          "data": {
            "image/png": "[encoded data removed]",
            "text/plain": [
              "<Figure size 1008x504 with 2 Axes>"
            ]
          },
          "metadata": {
            "needs_background": "light"
          }
        }
      ]
    },
    {
      "cell_type": "markdown",
      "source": [
        "We see that we achieve the best train time on CPU with `batch_size=512`, and after that the train time starts to increase.\n",
        "\n",
        "The train times on GPU decrease linearly with respect to the batch size up until `batch_size=1024`, and after that the decrease rate drops.\n",
        "\n",
        "Overall, we have about 5-6x acceleration using GPU."
      ],
      "metadata": {
        "id": "Vl49qdyYEZWd"
      }
    },
    {
      "cell_type": "markdown",
      "source": [
        "Now let's plot the test accuracy histories for each batch size:"
      ],
      "metadata": {
        "id": "oTzgmXyoEa5n"
      }
    },
    {
      "cell_type": "code",
      "source": [
        "plt.figure(figsize=(12, 10))\n",
        "for ix, batch_size in enumerate(batch_sizes):\n",
        "  plt.plot(test_accuracy_histories[ix], label=f'batch_size = {batch_size}')\n",
        "plt.ylim(bottom=0.8)\n",
        "plt.xlabel('n_epochs')\n",
        "plt.ylabel('Test accuracy (avg over 5 trials)')\n",
        "plt.title('Test accuracy vs batch size (ADAM optimizer, lr=1e-3)')\n",
        "plt.grid(True)\n",
        "plt.legend();"
      ],
      "metadata": {
        "colab": {
          "base_uri": "https://localhost:8080/",
          "height": 622
        },
        "id": "NEypId7w3THK",
        "outputId": "4e2bb1a3-afb3-4498-d992-a53321e4bb93"
      },
      "execution_count": null,
      "outputs": [
        {
          "output_type": "display_data",
          "data": {
            "image/png": "[encoded data removed]",
            "text/plain": [
              "<Figure size 864x720 with 1 Axes>"
            ]
          },
          "metadata": {
            "needs_background": "light"
          }
        }
      ]
    },
    {
      "cell_type": "markdown",
      "source": [
        "We see that we achieve the best results with `batch_size` equal to 1024 or 2048, and too small (128) or too big (8192) batch size gives worse quality (perhaps the batch size can be interpreted as the learning rate as well?)."
      ],
      "metadata": {
        "id": "TE7xvoLALYDb"
      }
    },
    {
      "cell_type": "markdown",
      "source": [
        "## 3. Does setting `torch.backends.cudnn.deterministic = True` slow learning?"
      ],
      "metadata": {
        "id": "QcyHAsizJ2RB"
      }
    },
    {
      "cell_type": "code",
      "source": [
        "device = torch.device('cuda:0' if torch.cuda.is_available() else 'cpu')\n",
        "X_test = X_test.to(device)\n",
        "y_test = y_test.to(device)"
      ],
      "metadata": {
        "id": "0lXW_0N_Pcbh"
      },
      "execution_count": null,
      "outputs": []
    },
    {
      "cell_type": "code",
      "source": [
        "torch.backends.cudnn.deterministic = False\n",
        "train_times_gpu_nondet = []\n",
        "for batch_size in batch_sizes:\n",
        "    time1 = time()\n",
        "    _ = train_net(optimizer_params={'lr': 1e-3}, batch_size=batch_size, n_epochs=100)\n",
        "    time2 = time()\n",
        "    train_times_gpu_nondet.append(time2 - time1)"
      ],
      "metadata": {
        "id": "7i6WyhZ5Pjed"
      },
      "execution_count": null,
      "outputs": []
    },
    {
      "cell_type": "code",
      "source": [
        "plt.semilogx(batch_sizes, train_times_gpu, label='GPU train times')\n",
        "plt.semilogx(batch_sizes, train_times_gpu_nondet, label='GPU train times (nondet)')\n",
        "plt.xticks(batch_sizes, labels=batch_sizes)\n",
        "plt.xlabel('Batch size')\n",
        "plt.ylabel('Train time (s)')\n",
        "plt.title('Train times vs log-batch size (100 epochs)')\n",
        "plt.legend(loc='best')\n",
        "plt.grid(True)"
      ],
      "metadata": {
        "colab": {
          "base_uri": "https://localhost:8080/",
          "height": 295
        },
        "id": "iKljgnKqRGQ6",
        "outputId": "2b42513d-33f2-4779-c0d0-247734e3e6f5"
      },
      "execution_count": null,
      "outputs": [
        {
          "output_type": "display_data",
          "data": {
            "image/png": "[encoded data removed]",
            "text/plain": [
              "<Figure size 432x288 with 1 Axes>"
            ]
          },
          "metadata": {
            "needs_background": "light"
          }
        }
      ]
    },
    {
      "cell_type": "markdown",
      "source": [
        "So changing this parameter doesn't really affect the learning speed."
      ],
      "metadata": {
        "id": "0asPNUdZRqhW"
      }
    },
    {
      "cell_type": "code",
      "source": [
        "torch.backends.cudnn.deterministic = True"
      ],
      "metadata": {
        "id": "th-EJmI-TsQZ"
      },
      "execution_count": null,
      "outputs": []
    },
    {
      "cell_type": "markdown",
      "source": [
        "## 4. Try different gradient descent optimizers. How does the choice of a gradient descent method affect the accuracy?\n",
        "\n",
        "We try Adam, SGD, RMSProp and Rprop optimizers with different parameters (learning rates and momentums). For every optimizer we run 5 trials with different random seeds.\n",
        "\n"
      ],
      "metadata": {
        "id": "mBI_r87JTVh8"
      }
    },
    {
      "cell_type": "code",
      "source": [
        "adam_accuracies = []\n",
        "sgd_accuracies = []\n",
        "rmsprop_accuracies = []\n",
        "rprop_accuracies = []\n",
        "\n",
        "\n",
        "for i in range(5):\n",
        "  random.seed(i)\n",
        "  np.random.seed(i)\n",
        "  torch.manual_seed(i)\n",
        "  torch.cuda.manual_seed(i)\n",
        "\n",
        "  _, test_accuracy_history, _, _  = train_net(batch_size=2048, optimizer_params={'lr': 1e-3}, n_epochs=200)\n",
        "  adam_accuracies.append(test_accuracy_history)\n",
        "\n",
        "  _, test_accuracy_history, _, _  = train_net(batch_size=2048, optimizer=torch.optim.SGD,\n",
        "                                              optimizer_params={'lr': 1e-1, 'momentum': 0.1}, n_epochs=200)\n",
        "  sgd_accuracies.append(test_accuracy_history)\n",
        "\n",
        "  _, test_accuracy_history, _, _  = train_net(batch_size=2048, optimizer=torch.optim.RMSprop,\n",
        "                                              optimizer_params={'lr': 1e-3}, n_epochs=200)\n",
        "  rmsprop_accuracies.append(test_accuracy_history)\n",
        "\n",
        "  _, test_accuracy_history, _, _  = train_net(batch_size=2048, optimizer=torch.optim.Rprop,\n",
        "                                              optimizer_params={'lr': 1e-2}, n_epochs=200)\n",
        "  rprop_accuracies.append(test_accuracy_history)\n",
        "  \n",
        "adam_accuracy = torch.Tensor(adam_accuracies).cpu().numpy().mean(axis=0)\n",
        "sgd_accuracy = torch.Tensor(sgd_accuracies).cpu().numpy().mean(axis=0)\n",
        "rmsprop_accuracy = torch.Tensor(rmsprop_accuracies).cpu().numpy().mean(axis=0)\n",
        "rprop_accuracy = torch.Tensor(rprop_accuracies).cpu().numpy().mean(axis=0)"
      ],
      "metadata": {
        "id": "OhPqR5WJRwQM"
      },
      "execution_count": null,
      "outputs": []
    },
    {
      "cell_type": "markdown",
      "source": [
        "We found the following:\n",
        "\n",
        "- SGD with `lr = 1e-2` learns too slow, changing learning rate to 0.1 and adding `momentum=0.1` helps;\n",
        "- RMSprop with the default learning rate ($10^{-2}$) stops improving fast, changing the learning rate to 0.001 we get accuracy similar to Adam's;\n",
        "- Rprop stops learning fast and doesn't achieve great accuracy for all learning rates that we tried."
      ],
      "metadata": {
        "id": "0-Ggr3Y8azOI"
      }
    },
    {
      "cell_type": "code",
      "source": [
        "plt.figure(figsize=(10, 8))\n",
        "plt.plot(adam_accuracy, label='Adam, lr=1e-3')\n",
        "plt.plot(sgd_accuracy, label='SGD, lr=1e-1, momentum=0.1')\n",
        "plt.plot(rmsprop_accuracy, label='RMSprop, lr=1e-3')\n",
        "plt.plot(rprop_accuracy, label='Rprop, lr=1e-2')\n",
        "plt.xlabel('n_epochs')\n",
        "plt.ylabel('Accuracy')\n",
        "plt.title('Accuracy vs optimizer choice')\n",
        "plt.legend(loc='best')\n",
        "plt.grid(True);"
      ],
      "metadata": {
        "colab": {
          "base_uri": "https://localhost:8080/",
          "height": 514
        },
        "id": "IZo_Y7UgbtXj",
        "outputId": "947ab19a-457f-4513-a1a9-1a086aeb62e6"
      },
      "execution_count": null,
      "outputs": [
        {
          "output_type": "display_data",
          "data": {
            "image/png": "[encoded data removed]",
            "text/plain": [
              "<Figure size 720x576 with 1 Axes>"
            ]
          },
          "metadata": {
            "needs_background": "light"
          }
        }
      ]
    }
  ],
  "metadata": {
    "colab": {
      "collapsed_sections": [],
      "name": "module04_mnist_fc.ipynb",
      "provenance": [],
      "include_colab_link": true
    },
    "kernelspec": {
      "display_name": "Python 3",
      "language": "python",
      "name": "python3"
    },
    "language_info": {
      "codemirror_mode": {
        "name": "ipython",
        "version": 3
      },
      "file_extension": ".py",
      "mimetype": "text/x-python",
      "name": "python",
      "nbconvert_exporter": "python",
      "pygments_lexer": "ipython3",
      "version": "3.6.8"
    },
    "widgets": {
      "application/vnd.jupyter.widget-state+json": {
        "b0b176d762554c81a31600031c52e0a0": {
          "model_module": "@jupyter-widgets/controls",
          "model_name": "HBoxModel",
          "model_module_version": "1.5.0",
          "state": {
            "_view_name": "HBoxView",
            "_dom_classes": [],
            "_model_name": "HBoxModel",
            "_view_module": "@jupyter-widgets/controls",
            "_model_module_version": "1.5.0",
            "_view_count": null,
            "_view_module_version": "1.5.0",
            "box_style": "",
            "layout": "IPY_MODEL_cfb9a6a617154c6ca1368b6b1c045acb",
            "_model_module": "@jupyter-widgets/controls",
            "children": [
              "IPY_MODEL_4471a2006a54408285d6bc2f1be340e1",
              "IPY_MODEL_94ac6635de9246c18f34adaaa76915ac",
              "IPY_MODEL_aa844161b9324642a8ce9a779ae89612"
            ]
          }
        },
        "cfb9a6a617154c6ca1368b6b1c045acb": {
          "model_module": "@jupyter-widgets/base",
          "model_name": "LayoutModel",
          "model_module_version": "1.2.0",
          "state": {
            "_view_name": "LayoutView",
            "grid_template_rows": null,
            "right": null,
            "justify_content": null,
            "_view_module": "@jupyter-widgets/base",
            "overflow": null,
            "_model_module_version": "1.2.0",
            "_view_count": null,
            "flex_flow": null,
            "width": null,
            "min_width": null,
            "border": null,
            "align_items": null,
            "bottom": null,
            "_model_module": "@jupyter-widgets/base",
            "top": null,
            "grid_column": null,
            "overflow_y": null,
            "overflow_x": null,
            "grid_auto_flow": null,
            "grid_area": null,
            "grid_template_columns": null,
            "flex": null,
            "_model_name": "LayoutModel",
            "justify_items": null,
            "grid_row": null,
            "max_height": null,
            "align_content": null,
            "visibility": null,
            "align_self": null,
            "height": null,
            "min_height": null,
            "padding": null,
            "grid_auto_rows": null,
            "grid_gap": null,
            "max_width": null,
            "order": null,
            "_view_module_version": "1.2.0",
            "grid_template_areas": null,
            "object_position": null,
            "object_fit": null,
            "grid_auto_columns": null,
            "margin": null,
            "display": null,
            "left": null
          }
        },
        "4471a2006a54408285d6bc2f1be340e1": {
          "model_module": "@jupyter-widgets/controls",
          "model_name": "HTMLModel",
          "model_module_version": "1.5.0",
          "state": {
            "_view_name": "HTMLView",
            "style": "IPY_MODEL_e74087b6dfc04ad9a98357ba8ae15731",
            "_dom_classes": [],
            "description": "",
            "_model_name": "HTMLModel",
            "placeholder": "​",
            "_view_module": "@jupyter-widgets/controls",
            "_model_module_version": "1.5.0",
            "value": "",
            "_view_count": null,
            "_view_module_version": "1.5.0",
            "description_tooltip": null,
            "_model_module": "@jupyter-widgets/controls",
            "layout": "IPY_MODEL_4d4c39e0abb44d2d90be144d72917fd9"
          }
        },
        "94ac6635de9246c18f34adaaa76915ac": {
          "model_module": "@jupyter-widgets/controls",
          "model_name": "FloatProgressModel",
          "model_module_version": "1.5.0",
          "state": {
            "_view_name": "ProgressView",
            "style": "IPY_MODEL_4c56595bc6124229944c6fe5b3c67f44",
            "_dom_classes": [],
            "description": "",
            "_model_name": "FloatProgressModel",
            "bar_style": "success",
            "max": 9912422,
            "_view_module": "@jupyter-widgets/controls",
            "_model_module_version": "1.5.0",
            "value": 9912422,
            "_view_count": null,
            "_view_module_version": "1.5.0",
            "orientation": "horizontal",
            "min": 0,
            "description_tooltip": null,
            "_model_module": "@jupyter-widgets/controls",
            "layout": "IPY_MODEL_996c6ffe683b4997aeab8bddd5ecf0f2"
          }
        },
        "aa844161b9324642a8ce9a779ae89612": {
          "model_module": "@jupyter-widgets/controls",
          "model_name": "HTMLModel",
          "model_module_version": "1.5.0",
          "state": {
            "_view_name": "HTMLView",
            "style": "IPY_MODEL_24fc495214b149ffa86cd9af6a0db6d2",
            "_dom_classes": [],
            "description": "",
            "_model_name": "HTMLModel",
            "placeholder": "​",
            "_view_module": "@jupyter-widgets/controls",
            "_model_module_version": "1.5.0",
            "value": " 9913344/? [00:01&lt;00:00, 14362223.53it/s]",
            "_view_count": null,
            "_view_module_version": "1.5.0",
            "description_tooltip": null,
            "_model_module": "@jupyter-widgets/controls",
            "layout": "IPY_MODEL_d8d8f9b438464c228461c02e98866b29"
          }
        },
        "e74087b6dfc04ad9a98357ba8ae15731": {
          "model_module": "@jupyter-widgets/controls",
          "model_name": "DescriptionStyleModel",
          "model_module_version": "1.5.0",
          "state": {
            "_view_name": "StyleView",
            "_model_name": "DescriptionStyleModel",
            "description_width": "",
            "_view_module": "@jupyter-widgets/base",
            "_model_module_version": "1.5.0",
            "_view_count": null,
            "_view_module_version": "1.2.0",
            "_model_module": "@jupyter-widgets/controls"
          }
        },
        "4d4c39e0abb44d2d90be144d72917fd9": {
          "model_module": "@jupyter-widgets/base",
          "model_name": "LayoutModel",
          "model_module_version": "1.2.0",
          "state": {
            "_view_name": "LayoutView",
            "grid_template_rows": null,
            "right": null,
            "justify_content": null,
            "_view_module": "@jupyter-widgets/base",
            "overflow": null,
            "_model_module_version": "1.2.0",
            "_view_count": null,
            "flex_flow": null,
            "width": null,
            "min_width": null,
            "border": null,
            "align_items": null,
            "bottom": null,
            "_model_module": "@jupyter-widgets/base",
            "top": null,
            "grid_column": null,
            "overflow_y": null,
            "overflow_x": null,
            "grid_auto_flow": null,
            "grid_area": null,
            "grid_template_columns": null,
            "flex": null,
            "_model_name": "LayoutModel",
            "justify_items": null,
            "grid_row": null,
            "max_height": null,
            "align_content": null,
            "visibility": null,
            "align_self": null,
            "height": null,
            "min_height": null,
            "padding": null,
            "grid_auto_rows": null,
            "grid_gap": null,
            "max_width": null,
            "order": null,
            "_view_module_version": "1.2.0",
            "grid_template_areas": null,
            "object_position": null,
            "object_fit": null,
            "grid_auto_columns": null,
            "margin": null,
            "display": null,
            "left": null
          }
        },
        "4c56595bc6124229944c6fe5b3c67f44": {
          "model_module": "@jupyter-widgets/controls",
          "model_name": "ProgressStyleModel",
          "model_module_version": "1.5.0",
          "state": {
            "_view_name": "StyleView",
            "_model_name": "ProgressStyleModel",
            "description_width": "",
            "_view_module": "@jupyter-widgets/base",
            "_model_module_version": "1.5.0",
            "_view_count": null,
            "_view_module_version": "1.2.0",
            "bar_color": null,
            "_model_module": "@jupyter-widgets/controls"
          }
        },
        "996c6ffe683b4997aeab8bddd5ecf0f2": {
          "model_module": "@jupyter-widgets/base",
          "model_name": "LayoutModel",
          "model_module_version": "1.2.0",
          "state": {
            "_view_name": "LayoutView",
            "grid_template_rows": null,
            "right": null,
            "justify_content": null,
            "_view_module": "@jupyter-widgets/base",
            "overflow": null,
            "_model_module_version": "1.2.0",
            "_view_count": null,
            "flex_flow": null,
            "width": null,
            "min_width": null,
            "border": null,
            "align_items": null,
            "bottom": null,
            "_model_module": "@jupyter-widgets/base",
            "top": null,
            "grid_column": null,
            "overflow_y": null,
            "overflow_x": null,
            "grid_auto_flow": null,
            "grid_area": null,
            "grid_template_columns": null,
            "flex": null,
            "_model_name": "LayoutModel",
            "justify_items": null,
            "grid_row": null,
            "max_height": null,
            "align_content": null,
            "visibility": null,
            "align_self": null,
            "height": null,
            "min_height": null,
            "padding": null,
            "grid_auto_rows": null,
            "grid_gap": null,
            "max_width": null,
            "order": null,
            "_view_module_version": "1.2.0",
            "grid_template_areas": null,
            "object_position": null,
            "object_fit": null,
            "grid_auto_columns": null,
            "margin": null,
            "display": null,
            "left": null
          }
        },
        "24fc495214b149ffa86cd9af6a0db6d2": {
          "model_module": "@jupyter-widgets/controls",
          "model_name": "DescriptionStyleModel",
          "model_module_version": "1.5.0",
          "state": {
            "_view_name": "StyleView",
            "_model_name": "DescriptionStyleModel",
            "description_width": "",
            "_view_module": "@jupyter-widgets/base",
            "_model_module_version": "1.5.0",
            "_view_count": null,
            "_view_module_version": "1.2.0",
            "_model_module": "@jupyter-widgets/controls"
          }
        },
        "d8d8f9b438464c228461c02e98866b29": {
          "model_module": "@jupyter-widgets/base",
          "model_name": "LayoutModel",
          "model_module_version": "1.2.0",
          "state": {
            "_view_name": "LayoutView",
            "grid_template_rows": null,
            "right": null,
            "justify_content": null,
            "_view_module": "@jupyter-widgets/base",
            "overflow": null,
            "_model_module_version": "1.2.0",
            "_view_count": null,
            "flex_flow": null,
            "width": null,
            "min_width": null,
            "border": null,
            "align_items": null,
            "bottom": null,
            "_model_module": "@jupyter-widgets/base",
            "top": null,
            "grid_column": null,
            "overflow_y": null,
            "overflow_x": null,
            "grid_auto_flow": null,
            "grid_area": null,
            "grid_template_columns": null,
            "flex": null,
            "_model_name": "LayoutModel",
            "justify_items": null,
            "grid_row": null,
            "max_height": null,
            "align_content": null,
            "visibility": null,
            "align_self": null,
            "height": null,
            "min_height": null,
            "padding": null,
            "grid_auto_rows": null,
            "grid_gap": null,
            "max_width": null,
            "order": null,
            "_view_module_version": "1.2.0",
            "grid_template_areas": null,
            "object_position": null,
            "object_fit": null,
            "grid_auto_columns": null,
            "margin": null,
            "display": null,
            "left": null
          }
        },
        "8d1cbead7d0b48f5a602cb55576314a4": {
          "model_module": "@jupyter-widgets/controls",
          "model_name": "HBoxModel",
          "model_module_version": "1.5.0",
          "state": {
            "_view_name": "HBoxView",
            "_dom_classes": [],
            "_model_name": "HBoxModel",
            "_view_module": "@jupyter-widgets/controls",
            "_model_module_version": "1.5.0",
            "_view_count": null,
            "_view_module_version": "1.5.0",
            "box_style": "",
            "layout": "IPY_MODEL_b4a82c0592bc48b2af1f14949f9a6d66",
            "_model_module": "@jupyter-widgets/controls",
            "children": [
              "IPY_MODEL_255c4dd66bf0448f989fb1d925887acf",
              "IPY_MODEL_e1f8e906b54a4b67a6bbdb6fc60357d4",
              "IPY_MODEL_3bf3247ccf7b4a9abce3e8e32db8557e"
            ]
          }
        },
        "b4a82c0592bc48b2af1f14949f9a6d66": {
          "model_module": "@jupyter-widgets/base",
          "model_name": "LayoutModel",
          "model_module_version": "1.2.0",
          "state": {
            "_view_name": "LayoutView",
            "grid_template_rows": null,
            "right": null,
            "justify_content": null,
            "_view_module": "@jupyter-widgets/base",
            "overflow": null,
            "_model_module_version": "1.2.0",
            "_view_count": null,
            "flex_flow": null,
            "width": null,
            "min_width": null,
            "border": null,
            "align_items": null,
            "bottom": null,
            "_model_module": "@jupyter-widgets/base",
            "top": null,
            "grid_column": null,
            "overflow_y": null,
            "overflow_x": null,
            "grid_auto_flow": null,
            "grid_area": null,
            "grid_template_columns": null,
            "flex": null,
            "_model_name": "LayoutModel",
            "justify_items": null,
            "grid_row": null,
            "max_height": null,
            "align_content": null,
            "visibility": null,
            "align_self": null,
            "height": null,
            "min_height": null,
            "padding": null,
            "grid_auto_rows": null,
            "grid_gap": null,
            "max_width": null,
            "order": null,
            "_view_module_version": "1.2.0",
            "grid_template_areas": null,
            "object_position": null,
            "object_fit": null,
            "grid_auto_columns": null,
            "margin": null,
            "display": null,
            "left": null
          }
        },
        "255c4dd66bf0448f989fb1d925887acf": {
          "model_module": "@jupyter-widgets/controls",
          "model_name": "HTMLModel",
          "model_module_version": "1.5.0",
          "state": {
            "_view_name": "HTMLView",
            "style": "IPY_MODEL_a658bf324b37404cb37e114795861c5c",
            "_dom_classes": [],
            "description": "",
            "_model_name": "HTMLModel",
            "placeholder": "​",
            "_view_module": "@jupyter-widgets/controls",
            "_model_module_version": "1.5.0",
            "value": "",
            "_view_count": null,
            "_view_module_version": "1.5.0",
            "description_tooltip": null,
            "_model_module": "@jupyter-widgets/controls",
            "layout": "IPY_MODEL_4a8a9709d2e44434be9b08b010c2dd80"
          }
        },
        "e1f8e906b54a4b67a6bbdb6fc60357d4": {
          "model_module": "@jupyter-widgets/controls",
          "model_name": "FloatProgressModel",
          "model_module_version": "1.5.0",
          "state": {
            "_view_name": "ProgressView",
            "style": "IPY_MODEL_5107ed25516a438bb38a3d3f532c806f",
            "_dom_classes": [],
            "description": "",
            "_model_name": "FloatProgressModel",
            "bar_style": "success",
            "max": 28881,
            "_view_module": "@jupyter-widgets/controls",
            "_model_module_version": "1.5.0",
            "value": 28881,
            "_view_count": null,
            "_view_module_version": "1.5.0",
            "orientation": "horizontal",
            "min": 0,
            "description_tooltip": null,
            "_model_module": "@jupyter-widgets/controls",
            "layout": "IPY_MODEL_1eb335fffdc54bfca769748b41e87719"
          }
        },
        "3bf3247ccf7b4a9abce3e8e32db8557e": {
          "model_module": "@jupyter-widgets/controls",
          "model_name": "HTMLModel",
          "model_module_version": "1.5.0",
          "state": {
            "_view_name": "HTMLView",
            "style": "IPY_MODEL_de98eba9500b44059f42e4689fce27dd",
            "_dom_classes": [],
            "description": "",
            "_model_name": "HTMLModel",
            "placeholder": "​",
            "_view_module": "@jupyter-widgets/controls",
            "_model_module_version": "1.5.0",
            "value": " 29696/? [00:00&lt;00:00, 415054.27it/s]",
            "_view_count": null,
            "_view_module_version": "1.5.0",
            "description_tooltip": null,
            "_model_module": "@jupyter-widgets/controls",
            "layout": "IPY_MODEL_3be81125693143569b87417c9ccb9a0e"
          }
        },
        "a658bf324b37404cb37e114795861c5c": {
          "model_module": "@jupyter-widgets/controls",
          "model_name": "DescriptionStyleModel",
          "model_module_version": "1.5.0",
          "state": {
            "_view_name": "StyleView",
            "_model_name": "DescriptionStyleModel",
            "description_width": "",
            "_view_module": "@jupyter-widgets/base",
            "_model_module_version": "1.5.0",
            "_view_count": null,
            "_view_module_version": "1.2.0",
            "_model_module": "@jupyter-widgets/controls"
          }
        },
        "4a8a9709d2e44434be9b08b010c2dd80": {
          "model_module": "@jupyter-widgets/base",
          "model_name": "LayoutModel",
          "model_module_version": "1.2.0",
          "state": {
            "_view_name": "LayoutView",
            "grid_template_rows": null,
            "right": null,
            "justify_content": null,
            "_view_module": "@jupyter-widgets/base",
            "overflow": null,
            "_model_module_version": "1.2.0",
            "_view_count": null,
            "flex_flow": null,
            "width": null,
            "min_width": null,
            "border": null,
            "align_items": null,
            "bottom": null,
            "_model_module": "@jupyter-widgets/base",
            "top": null,
            "grid_column": null,
            "overflow_y": null,
            "overflow_x": null,
            "grid_auto_flow": null,
            "grid_area": null,
            "grid_template_columns": null,
            "flex": null,
            "_model_name": "LayoutModel",
            "justify_items": null,
            "grid_row": null,
            "max_height": null,
            "align_content": null,
            "visibility": null,
            "align_self": null,
            "height": null,
            "min_height": null,
            "padding": null,
            "grid_auto_rows": null,
            "grid_gap": null,
            "max_width": null,
            "order": null,
            "_view_module_version": "1.2.0",
            "grid_template_areas": null,
            "object_position": null,
            "object_fit": null,
            "grid_auto_columns": null,
            "margin": null,
            "display": null,
            "left": null
          }
        },
        "5107ed25516a438bb38a3d3f532c806f": {
          "model_module": "@jupyter-widgets/controls",
          "model_name": "ProgressStyleModel",
          "model_module_version": "1.5.0",
          "state": {
            "_view_name": "StyleView",
            "_model_name": "ProgressStyleModel",
            "description_width": "",
            "_view_module": "@jupyter-widgets/base",
            "_model_module_version": "1.5.0",
            "_view_count": null,
            "_view_module_version": "1.2.0",
            "bar_color": null,
            "_model_module": "@jupyter-widgets/controls"
          }
        },
        "1eb335fffdc54bfca769748b41e87719": {
          "model_module": "@jupyter-widgets/base",
          "model_name": "LayoutModel",
          "model_module_version": "1.2.0",
          "state": {
            "_view_name": "LayoutView",
            "grid_template_rows": null,
            "right": null,
            "justify_content": null,
            "_view_module": "@jupyter-widgets/base",
            "overflow": null,
            "_model_module_version": "1.2.0",
            "_view_count": null,
            "flex_flow": null,
            "width": null,
            "min_width": null,
            "border": null,
            "align_items": null,
            "bottom": null,
            "_model_module": "@jupyter-widgets/base",
            "top": null,
            "grid_column": null,
            "overflow_y": null,
            "overflow_x": null,
            "grid_auto_flow": null,
            "grid_area": null,
            "grid_template_columns": null,
            "flex": null,
            "_model_name": "LayoutModel",
            "justify_items": null,
            "grid_row": null,
            "max_height": null,
            "align_content": null,
            "visibility": null,
            "align_self": null,
            "height": null,
            "min_height": null,
            "padding": null,
            "grid_auto_rows": null,
            "grid_gap": null,
            "max_width": null,
            "order": null,
            "_view_module_version": "1.2.0",
            "grid_template_areas": null,
            "object_position": null,
            "object_fit": null,
            "grid_auto_columns": null,
            "margin": null,
            "display": null,
            "left": null
          }
        },
        "de98eba9500b44059f42e4689fce27dd": {
          "model_module": "@jupyter-widgets/controls",
          "model_name": "DescriptionStyleModel",
          "model_module_version": "1.5.0",
          "state": {
            "_view_name": "StyleView",
            "_model_name": "DescriptionStyleModel",
            "description_width": "",
            "_view_module": "@jupyter-widgets/base",
            "_model_module_version": "1.5.0",
            "_view_count": null,
            "_view_module_version": "1.2.0",
            "_model_module": "@jupyter-widgets/controls"
          }
        },
        "3be81125693143569b87417c9ccb9a0e": {
          "model_module": "@jupyter-widgets/base",
          "model_name": "LayoutModel",
          "model_module_version": "1.2.0",
          "state": {
            "_view_name": "LayoutView",
            "grid_template_rows": null,
            "right": null,
            "justify_content": null,
            "_view_module": "@jupyter-widgets/base",
            "overflow": null,
            "_model_module_version": "1.2.0",
            "_view_count": null,
            "flex_flow": null,
            "width": null,
            "min_width": null,
            "border": null,
            "align_items": null,
            "bottom": null,
            "_model_module": "@jupyter-widgets/base",
            "top": null,
            "grid_column": null,
            "overflow_y": null,
            "overflow_x": null,
            "grid_auto_flow": null,
            "grid_area": null,
            "grid_template_columns": null,
            "flex": null,
            "_model_name": "LayoutModel",
            "justify_items": null,
            "grid_row": null,
            "max_height": null,
            "align_content": null,
            "visibility": null,
            "align_self": null,
            "height": null,
            "min_height": null,
            "padding": null,
            "grid_auto_rows": null,
            "grid_gap": null,
            "max_width": null,
            "order": null,
            "_view_module_version": "1.2.0",
            "grid_template_areas": null,
            "object_position": null,
            "object_fit": null,
            "grid_auto_columns": null,
            "margin": null,
            "display": null,
            "left": null
          }
        },
        "9d347e8c1a484d0c8efc9d4291f885a4": {
          "model_module": "@jupyter-widgets/controls",
          "model_name": "HBoxModel",
          "model_module_version": "1.5.0",
          "state": {
            "_view_name": "HBoxView",
            "_dom_classes": [],
            "_model_name": "HBoxModel",
            "_view_module": "@jupyter-widgets/controls",
            "_model_module_version": "1.5.0",
            "_view_count": null,
            "_view_module_version": "1.5.0",
            "box_style": "",
            "layout": "IPY_MODEL_3e4d9db2b8c54a09a167d64b814a50a9",
            "_model_module": "@jupyter-widgets/controls",
            "children": [
              "IPY_MODEL_113c373b07c94c34a13b6db9b8ce72b8",
              "IPY_MODEL_680d7436ddc84fdbb8eb4f1469144fc9",
              "IPY_MODEL_562196f894844a819ee381567911946e"
            ]
          }
        },
        "3e4d9db2b8c54a09a167d64b814a50a9": {
          "model_module": "@jupyter-widgets/base",
          "model_name": "LayoutModel",
          "model_module_version": "1.2.0",
          "state": {
            "_view_name": "LayoutView",
            "grid_template_rows": null,
            "right": null,
            "justify_content": null,
            "_view_module": "@jupyter-widgets/base",
            "overflow": null,
            "_model_module_version": "1.2.0",
            "_view_count": null,
            "flex_flow": null,
            "width": null,
            "min_width": null,
            "border": null,
            "align_items": null,
            "bottom": null,
            "_model_module": "@jupyter-widgets/base",
            "top": null,
            "grid_column": null,
            "overflow_y": null,
            "overflow_x": null,
            "grid_auto_flow": null,
            "grid_area": null,
            "grid_template_columns": null,
            "flex": null,
            "_model_name": "LayoutModel",
            "justify_items": null,
            "grid_row": null,
            "max_height": null,
            "align_content": null,
            "visibility": null,
            "align_self": null,
            "height": null,
            "min_height": null,
            "padding": null,
            "grid_auto_rows": null,
            "grid_gap": null,
            "max_width": null,
            "order": null,
            "_view_module_version": "1.2.0",
            "grid_template_areas": null,
            "object_position": null,
            "object_fit": null,
            "grid_auto_columns": null,
            "margin": null,
            "display": null,
            "left": null
          }
        },
        "113c373b07c94c34a13b6db9b8ce72b8": {
          "model_module": "@jupyter-widgets/controls",
          "model_name": "HTMLModel",
          "model_module_version": "1.5.0",
          "state": {
            "_view_name": "HTMLView",
            "style": "IPY_MODEL_7195924fe96348a784d938813ef9bd60",
            "_dom_classes": [],
            "description": "",
            "_model_name": "HTMLModel",
            "placeholder": "​",
            "_view_module": "@jupyter-widgets/controls",
            "_model_module_version": "1.5.0",
            "value": "",
            "_view_count": null,
            "_view_module_version": "1.5.0",
            "description_tooltip": null,
            "_model_module": "@jupyter-widgets/controls",
            "layout": "IPY_MODEL_d4f6833cdfd441c892450a1d58c6bb6d"
          }
        },
        "680d7436ddc84fdbb8eb4f1469144fc9": {
          "model_module": "@jupyter-widgets/controls",
          "model_name": "FloatProgressModel",
          "model_module_version": "1.5.0",
          "state": {
            "_view_name": "ProgressView",
            "style": "IPY_MODEL_84607c0dcd0e462f991d5ddc5423842a",
            "_dom_classes": [],
            "description": "",
            "_model_name": "FloatProgressModel",
            "bar_style": "success",
            "max": 1648877,
            "_view_module": "@jupyter-widgets/controls",
            "_model_module_version": "1.5.0",
            "value": 1648877,
            "_view_count": null,
            "_view_module_version": "1.5.0",
            "orientation": "horizontal",
            "min": 0,
            "description_tooltip": null,
            "_model_module": "@jupyter-widgets/controls",
            "layout": "IPY_MODEL_953a196c84a34d239cddf2634c2dac36"
          }
        },
        "562196f894844a819ee381567911946e": {
          "model_module": "@jupyter-widgets/controls",
          "model_name": "HTMLModel",
          "model_module_version": "1.5.0",
          "state": {
            "_view_name": "HTMLView",
            "style": "IPY_MODEL_24ada3842d104f968c53a8349c154381",
            "_dom_classes": [],
            "description": "",
            "_model_name": "HTMLModel",
            "placeholder": "​",
            "_view_module": "@jupyter-widgets/controls",
            "_model_module_version": "1.5.0",
            "value": " 1649664/? [00:00&lt;00:00, 8720758.50it/s]",
            "_view_count": null,
            "_view_module_version": "1.5.0",
            "description_tooltip": null,
            "_model_module": "@jupyter-widgets/controls",
            "layout": "IPY_MODEL_f4aec24d3f1b4f239ebedb2b53c55694"
          }
        },
        "7195924fe96348a784d938813ef9bd60": {
          "model_module": "@jupyter-widgets/controls",
          "model_name": "DescriptionStyleModel",
          "model_module_version": "1.5.0",
          "state": {
            "_view_name": "StyleView",
            "_model_name": "DescriptionStyleModel",
            "description_width": "",
            "_view_module": "@jupyter-widgets/base",
            "_model_module_version": "1.5.0",
            "_view_count": null,
            "_view_module_version": "1.2.0",
            "_model_module": "@jupyter-widgets/controls"
          }
        },
        "d4f6833cdfd441c892450a1d58c6bb6d": {
          "model_module": "@jupyter-widgets/base",
          "model_name": "LayoutModel",
          "model_module_version": "1.2.0",
          "state": {
            "_view_name": "LayoutView",
            "grid_template_rows": null,
            "right": null,
            "justify_content": null,
            "_view_module": "@jupyter-widgets/base",
            "overflow": null,
            "_model_module_version": "1.2.0",
            "_view_count": null,
            "flex_flow": null,
            "width": null,
            "min_width": null,
            "border": null,
            "align_items": null,
            "bottom": null,
            "_model_module": "@jupyter-widgets/base",
            "top": null,
            "grid_column": null,
            "overflow_y": null,
            "overflow_x": null,
            "grid_auto_flow": null,
            "grid_area": null,
            "grid_template_columns": null,
            "flex": null,
            "_model_name": "LayoutModel",
            "justify_items": null,
            "grid_row": null,
            "max_height": null,
            "align_content": null,
            "visibility": null,
            "align_self": null,
            "height": null,
            "min_height": null,
            "padding": null,
            "grid_auto_rows": null,
            "grid_gap": null,
            "max_width": null,
            "order": null,
            "_view_module_version": "1.2.0",
            "grid_template_areas": null,
            "object_position": null,
            "object_fit": null,
            "grid_auto_columns": null,
            "margin": null,
            "display": null,
            "left": null
          }
        },
        "84607c0dcd0e462f991d5ddc5423842a": {
          "model_module": "@jupyter-widgets/controls",
          "model_name": "ProgressStyleModel",
          "model_module_version": "1.5.0",
          "state": {
            "_view_name": "StyleView",
            "_model_name": "ProgressStyleModel",
            "description_width": "",
            "_view_module": "@jupyter-widgets/base",
            "_model_module_version": "1.5.0",
            "_view_count": null,
            "_view_module_version": "1.2.0",
            "bar_color": null,
            "_model_module": "@jupyter-widgets/controls"
          }
        },
        "953a196c84a34d239cddf2634c2dac36": {
          "model_module": "@jupyter-widgets/base",
          "model_name": "LayoutModel",
          "model_module_version": "1.2.0",
          "state": {
            "_view_name": "LayoutView",
            "grid_template_rows": null,
            "right": null,
            "justify_content": null,
            "_view_module": "@jupyter-widgets/base",
            "overflow": null,
            "_model_module_version": "1.2.0",
            "_view_count": null,
            "flex_flow": null,
            "width": null,
            "min_width": null,
            "border": null,
            "align_items": null,
            "bottom": null,
            "_model_module": "@jupyter-widgets/base",
            "top": null,
            "grid_column": null,
            "overflow_y": null,
            "overflow_x": null,
            "grid_auto_flow": null,
            "grid_area": null,
            "grid_template_columns": null,
            "flex": null,
            "_model_name": "LayoutModel",
            "justify_items": null,
            "grid_row": null,
            "max_height": null,
            "align_content": null,
            "visibility": null,
            "align_self": null,
            "height": null,
            "min_height": null,
            "padding": null,
            "grid_auto_rows": null,
            "grid_gap": null,
            "max_width": null,
            "order": null,
            "_view_module_version": "1.2.0",
            "grid_template_areas": null,
            "object_position": null,
            "object_fit": null,
            "grid_auto_columns": null,
            "margin": null,
            "display": null,
            "left": null
          }
        },
        "24ada3842d104f968c53a8349c154381": {
          "model_module": "@jupyter-widgets/controls",
          "model_name": "DescriptionStyleModel",
          "model_module_version": "1.5.0",
          "state": {
            "_view_name": "StyleView",
            "_model_name": "DescriptionStyleModel",
            "description_width": "",
            "_view_module": "@jupyter-widgets/base",
            "_model_module_version": "1.5.0",
            "_view_count": null,
            "_view_module_version": "1.2.0",
            "_model_module": "@jupyter-widgets/controls"
          }
        },
        "f4aec24d3f1b4f239ebedb2b53c55694": {
          "model_module": "@jupyter-widgets/base",
          "model_name": "LayoutModel",
          "model_module_version": "1.2.0",
          "state": {
            "_view_name": "LayoutView",
            "grid_template_rows": null,
            "right": null,
            "justify_content": null,
            "_view_module": "@jupyter-widgets/base",
            "overflow": null,
            "_model_module_version": "1.2.0",
            "_view_count": null,
            "flex_flow": null,
            "width": null,
            "min_width": null,
            "border": null,
            "align_items": null,
            "bottom": null,
            "_model_module": "@jupyter-widgets/base",
            "top": null,
            "grid_column": null,
            "overflow_y": null,
            "overflow_x": null,
            "grid_auto_flow": null,
            "grid_area": null,
            "grid_template_columns": null,
            "flex": null,
            "_model_name": "LayoutModel",
            "justify_items": null,
            "grid_row": null,
            "max_height": null,
            "align_content": null,
            "visibility": null,
            "align_self": null,
            "height": null,
            "min_height": null,
            "padding": null,
            "grid_auto_rows": null,
            "grid_gap": null,
            "max_width": null,
            "order": null,
            "_view_module_version": "1.2.0",
            "grid_template_areas": null,
            "object_position": null,
            "object_fit": null,
            "grid_auto_columns": null,
            "margin": null,
            "display": null,
            "left": null
          }
        },
        "96cbfa2914bf49cba8e610390240c57b": {
          "model_module": "@jupyter-widgets/controls",
          "model_name": "HBoxModel",
          "model_module_version": "1.5.0",
          "state": {
            "_view_name": "HBoxView",
            "_dom_classes": [],
            "_model_name": "HBoxModel",
            "_view_module": "@jupyter-widgets/controls",
            "_model_module_version": "1.5.0",
            "_view_count": null,
            "_view_module_version": "1.5.0",
            "box_style": "",
            "layout": "IPY_MODEL_c843900d25ef4f78b2537bacdc6b8dbc",
            "_model_module": "@jupyter-widgets/controls",
            "children": [
              "IPY_MODEL_8eaafb03903f44bdbdbdc7266a5c7528",
              "IPY_MODEL_ef1a253798b2446b8914eed9846c0901",
              "IPY_MODEL_003d1a16be7f41d8b5a73eb82ba7d096"
            ]
          }
        },
        "c843900d25ef4f78b2537bacdc6b8dbc": {
          "model_module": "@jupyter-widgets/base",
          "model_name": "LayoutModel",
          "model_module_version": "1.2.0",
          "state": {
            "_view_name": "LayoutView",
            "grid_template_rows": null,
            "right": null,
            "justify_content": null,
            "_view_module": "@jupyter-widgets/base",
            "overflow": null,
            "_model_module_version": "1.2.0",
            "_view_count": null,
            "flex_flow": null,
            "width": null,
            "min_width": null,
            "border": null,
            "align_items": null,
            "bottom": null,
            "_model_module": "@jupyter-widgets/base",
            "top": null,
            "grid_column": null,
            "overflow_y": null,
            "overflow_x": null,
            "grid_auto_flow": null,
            "grid_area": null,
            "grid_template_columns": null,
            "flex": null,
            "_model_name": "LayoutModel",
            "justify_items": null,
            "grid_row": null,
            "max_height": null,
            "align_content": null,
            "visibility": null,
            "align_self": null,
            "height": null,
            "min_height": null,
            "padding": null,
            "grid_auto_rows": null,
            "grid_gap": null,
            "max_width": null,
            "order": null,
            "_view_module_version": "1.2.0",
            "grid_template_areas": null,
            "object_position": null,
            "object_fit": null,
            "grid_auto_columns": null,
            "margin": null,
            "display": null,
            "left": null
          }
        },
        "8eaafb03903f44bdbdbdc7266a5c7528": {
          "model_module": "@jupyter-widgets/controls",
          "model_name": "HTMLModel",
          "model_module_version": "1.5.0",
          "state": {
            "_view_name": "HTMLView",
            "style": "IPY_MODEL_5cd476ef594e476582d3756fd01960df",
            "_dom_classes": [],
            "description": "",
            "_model_name": "HTMLModel",
            "placeholder": "​",
            "_view_module": "@jupyter-widgets/controls",
            "_model_module_version": "1.5.0",
            "value": "",
            "_view_count": null,
            "_view_module_version": "1.5.0",
            "description_tooltip": null,
            "_model_module": "@jupyter-widgets/controls",
            "layout": "IPY_MODEL_f1c9494f191b40e29b5f5a17267703e6"
          }
        },
        "ef1a253798b2446b8914eed9846c0901": {
          "model_module": "@jupyter-widgets/controls",
          "model_name": "FloatProgressModel",
          "model_module_version": "1.5.0",
          "state": {
            "_view_name": "ProgressView",
            "style": "IPY_MODEL_a56261d1613147af8dbb4cb029eb48b4",
            "_dom_classes": [],
            "description": "",
            "_model_name": "FloatProgressModel",
            "bar_style": "success",
            "max": 4542,
            "_view_module": "@jupyter-widgets/controls",
            "_model_module_version": "1.5.0",
            "value": 4542,
            "_view_count": null,
            "_view_module_version": "1.5.0",
            "orientation": "horizontal",
            "min": 0,
            "description_tooltip": null,
            "_model_module": "@jupyter-widgets/controls",
            "layout": "IPY_MODEL_b16f85d68f1f493cbbd3d4baf2b3ba90"
          }
        },
        "003d1a16be7f41d8b5a73eb82ba7d096": {
          "model_module": "@jupyter-widgets/controls",
          "model_name": "HTMLModel",
          "model_module_version": "1.5.0",
          "state": {
            "_view_name": "HTMLView",
            "style": "IPY_MODEL_3b23ec7b75274a86848dc202eb594c91",
            "_dom_classes": [],
            "description": "",
            "_model_name": "HTMLModel",
            "placeholder": "​",
            "_view_module": "@jupyter-widgets/controls",
            "_model_module_version": "1.5.0",
            "value": " 5120/? [00:00&lt;00:00, 48307.56it/s]",
            "_view_count": null,
            "_view_module_version": "1.5.0",
            "description_tooltip": null,
            "_model_module": "@jupyter-widgets/controls",
            "layout": "IPY_MODEL_c147704f770b4d76abe12036d5cac7f8"
          }
        },
        "5cd476ef594e476582d3756fd01960df": {
          "model_module": "@jupyter-widgets/controls",
          "model_name": "DescriptionStyleModel",
          "model_module_version": "1.5.0",
          "state": {
            "_view_name": "StyleView",
            "_model_name": "DescriptionStyleModel",
            "description_width": "",
            "_view_module": "@jupyter-widgets/base",
            "_model_module_version": "1.5.0",
            "_view_count": null,
            "_view_module_version": "1.2.0",
            "_model_module": "@jupyter-widgets/controls"
          }
        },
        "f1c9494f191b40e29b5f5a17267703e6": {
          "model_module": "@jupyter-widgets/base",
          "model_name": "LayoutModel",
          "model_module_version": "1.2.0",
          "state": {
            "_view_name": "LayoutView",
            "grid_template_rows": null,
            "right": null,
            "justify_content": null,
            "_view_module": "@jupyter-widgets/base",
            "overflow": null,
            "_model_module_version": "1.2.0",
            "_view_count": null,
            "flex_flow": null,
            "width": null,
            "min_width": null,
            "border": null,
            "align_items": null,
            "bottom": null,
            "_model_module": "@jupyter-widgets/base",
            "top": null,
            "grid_column": null,
            "overflow_y": null,
            "overflow_x": null,
            "grid_auto_flow": null,
            "grid_area": null,
            "grid_template_columns": null,
            "flex": null,
            "_model_name": "LayoutModel",
            "justify_items": null,
            "grid_row": null,
            "max_height": null,
            "align_content": null,
            "visibility": null,
            "align_self": null,
            "height": null,
            "min_height": null,
            "padding": null,
            "grid_auto_rows": null,
            "grid_gap": null,
            "max_width": null,
            "order": null,
            "_view_module_version": "1.2.0",
            "grid_template_areas": null,
            "object_position": null,
            "object_fit": null,
            "grid_auto_columns": null,
            "margin": null,
            "display": null,
            "left": null
          }
        },
        "a56261d1613147af8dbb4cb029eb48b4": {
          "model_module": "@jupyter-widgets/controls",
          "model_name": "ProgressStyleModel",
          "model_module_version": "1.5.0",
          "state": {
            "_view_name": "StyleView",
            "_model_name": "ProgressStyleModel",
            "description_width": "",
            "_view_module": "@jupyter-widgets/base",
            "_model_module_version": "1.5.0",
            "_view_count": null,
            "_view_module_version": "1.2.0",
            "bar_color": null,
            "_model_module": "@jupyter-widgets/controls"
          }
        },
        "b16f85d68f1f493cbbd3d4baf2b3ba90": {
          "model_module": "@jupyter-widgets/base",
          "model_name": "LayoutModel",
          "model_module_version": "1.2.0",
          "state": {
            "_view_name": "LayoutView",
            "grid_template_rows": null,
            "right": null,
            "justify_content": null,
            "_view_module": "@jupyter-widgets/base",
            "overflow": null,
            "_model_module_version": "1.2.0",
            "_view_count": null,
            "flex_flow": null,
            "width": null,
            "min_width": null,
            "border": null,
            "align_items": null,
            "bottom": null,
            "_model_module": "@jupyter-widgets/base",
            "top": null,
            "grid_column": null,
            "overflow_y": null,
            "overflow_x": null,
            "grid_auto_flow": null,
            "grid_area": null,
            "grid_template_columns": null,
            "flex": null,
            "_model_name": "LayoutModel",
            "justify_items": null,
            "grid_row": null,
            "max_height": null,
            "align_content": null,
            "visibility": null,
            "align_self": null,
            "height": null,
            "min_height": null,
            "padding": null,
            "grid_auto_rows": null,
            "grid_gap": null,
            "max_width": null,
            "order": null,
            "_view_module_version": "1.2.0",
            "grid_template_areas": null,
            "object_position": null,
            "object_fit": null,
            "grid_auto_columns": null,
            "margin": null,
            "display": null,
            "left": null
          }
        },
        "3b23ec7b75274a86848dc202eb594c91": {
          "model_module": "@jupyter-widgets/controls",
          "model_name": "DescriptionStyleModel",
          "model_module_version": "1.5.0",
          "state": {
            "_view_name": "StyleView",
            "_model_name": "DescriptionStyleModel",
            "description_width": "",
            "_view_module": "@jupyter-widgets/base",
            "_model_module_version": "1.5.0",
            "_view_count": null,
            "_view_module_version": "1.2.0",
            "_model_module": "@jupyter-widgets/controls"
          }
        },
        "c147704f770b4d76abe12036d5cac7f8": {
          "model_module": "@jupyter-widgets/base",
          "model_name": "LayoutModel",
          "model_module_version": "1.2.0",
          "state": {
            "_view_name": "LayoutView",
            "grid_template_rows": null,
            "right": null,
            "justify_content": null,
            "_view_module": "@jupyter-widgets/base",
            "overflow": null,
            "_model_module_version": "1.2.0",
            "_view_count": null,
            "flex_flow": null,
            "width": null,
            "min_width": null,
            "border": null,
            "align_items": null,
            "bottom": null,
            "_model_module": "@jupyter-widgets/base",
            "top": null,
            "grid_column": null,
            "overflow_y": null,
            "overflow_x": null,
            "grid_auto_flow": null,
            "grid_area": null,
            "grid_template_columns": null,
            "flex": null,
            "_model_name": "LayoutModel",
            "justify_items": null,
            "grid_row": null,
            "max_height": null,
            "align_content": null,
            "visibility": null,
            "align_self": null,
            "height": null,
            "min_height": null,
            "padding": null,
            "grid_auto_rows": null,
            "grid_gap": null,
            "max_width": null,
            "order": null,
            "_view_module_version": "1.2.0",
            "grid_template_areas": null,
            "object_position": null,
            "object_fit": null,
            "grid_auto_columns": null,
            "margin": null,
            "display": null,
            "left": null
          }
        }
      }
    }
  },
  "nbformat": 4,
  "nbformat_minor": 0
}